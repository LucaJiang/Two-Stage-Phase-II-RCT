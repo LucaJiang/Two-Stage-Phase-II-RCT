{
 "cells": [
  {
   "cell_type": "markdown",
   "id": "c9538109",
   "metadata": {
    "slideshow": {
     "slide_type": "slide"
    }
   },
   "source": [
    "# JWX's Part\n",
    "\n"
   ]
  },
  {
   "cell_type": "markdown",
   "id": "b4e650a8",
   "metadata": {
    "slideshow": {
     "slide_type": "slide"
    }
   },
   "source": [
    "\n",
    "## Introduction: Clinical Trials\n",
    "\n",
    "Three main phases of clinical trials$^{[1]}$:\n",
    "\n",
    "| Phase | Purpose                                      | Typical number of participants        | Success rate    |\n",
    "| ----- | -------------------------------------------- | ------------------------------------- | --------------- |\n",
    "| I     | Safety and dosage                            | 20-100 healthy volunteers or patients | Approx. 70%     |\n",
    "| II    | Efficacy and side effects                    | Up to several hundred patients        | Approx. 33%     |\n",
    "| III   | Efficacy and monitoring of adverse reactions | 300 to 3,000 patients                 | Approx. 25%-30% |\n",
    "\n",
    "\n",
    "<!-- FDA. https://www.fda.gov/patients/drug-development-process/step-3-clinical-research-->\n",
    "\n"
   ]
  },
  {
   "cell_type": "markdown",
   "id": "be4b022f",
   "metadata": {
    "slideshow": {
     "slide_type": "slide"
    }
   },
   "source": [
    "\n",
    "## Phase II Clinical Trials: Definition\n",
    "\n",
    "- **Objective**: Determine if the new treatment is **effective** enough to warrant further study in a larger phase III trial, as well as to further assess safety.\n",
    "- **Endpoints**: Binary (e.g., response vs. no response)\n",
    "- **Hypothesis**:\n",
    "$$\n",
    "\\begin{aligned}\n",
    "H_0: p \\leq p_0 \\quad &\\text{vs.} \\quad H_1: p \\geq p_1 \\\\\n",
    "\\text{type I error: } \\alpha & = P(\\text{rej. } H_0 | H_0) \\\\\n",
    "    \\text{type II error: } \\beta & = P(\\text{rej. } H_1 | H_1)\n",
    "\\end{aligned}\n",
    "$$\n",
    "where $p$ is the true response rate and $p_0$ and $p_1$ are the uninteresting level and the desirable level, respectively.\n",
    "\n",
    "<!-- Consider a single-arm design with tumor response rate as the primary endpoint, where a binary outcome is defined as either “response” or “no response”. We want to test the hypotheses: -->\n",
    "\n"
   ]
  },
  {
   "cell_type": "markdown",
   "id": "c1ebb314",
   "metadata": {
    "slideshow": {
     "slide_type": "subslide"
    }
   },
   "source": [
    "\n",
    "<h3>A Motivating Example</h3>\n",
    "\n",
    "Let set $p_0 = .05$, $p_1 = .25$, $\\alpha = .10$, and $\\beta = .10$ and calculate the sample size under Simon's two-stage optimal design$^{[2]}$. Note: $n, n_i, r, r_i, x_i, i=1,2$ are integers.\n",
    "\n",
    "<figure>\n",
    "    <center><img src=\"./img/flowchart.png\" style=\"zoom:.3\"></center>\n",
    "    <figcaption style=\"text-align: center;\">Fig 1: Flowchart of Simon's two-stage design</figcaption>\n",
    "</figure>\n",
    "\n",
    "| Notation | Definition                  | Value |\n",
    "| -------- | --------------------------- | ----: |\n",
    "| $n_1$    | sample size in stage I      |     9 |\n",
    "| $x_1$    | # responses in stage I      |     ? |\n",
    "| $r_1$    | rejection points in stage I |     0 |\n",
    "| $n_2$    | sample size in stage II     |    15 |\n",
    "| $x_2$    | # responses in stage II     |     ? |\n",
    "| $r$      | total rejection points      |     2 |\n",
    "\n",
    "\n",
    "<center><h4><strong>Question: Why we need a two-stage design?</strong></h4></center>\n",
    "\n",
    "<!--     | $p_0$                        | uninteresting level | .05 |\n",
    "| $p_1$    | desirable level              | .25                 |\n",
    "| $p$      | true response rate           | ?                   |\n",
    "| $\\alpha$ | type I error                 | .10                 |\n",
    "| $r_2$        | rejection points in stage II |     2 |\n",
    "| $\\beta$  | type II error                | .10                 | -->\n",
    "\n"
   ]
  },
  {
   "cell_type": "markdown",
   "id": "a10e6bac",
   "metadata": {
    "slideshow": {
     "slide_type": "subslide"
    }
   },
   "source": [
    "\n",
    "<h3>A Motivating Example (cont'd)</h3>\n",
    "\n",
    "| Notation   | Definition                                   | Value |\n",
    "| ---------- | -------------------------------------------- | ----: |\n",
    "| $n$        | total sample size                            |    24 |\n",
    "| PET$(p_0)$ | probability of early termination under $p_0$ |   .63 |\n",
    "| EN$(p_0)$  | expected sample size under $p_0$             |  14.5 |\n",
    "\n",
    "$\\text{PET}(p_0) = P(x_1 \\leq r_1 | p=p_0) = \\text{Bin}(r_1; n_1, p_0) = \\sum_{i=0}^{r_1} \\binom{n_1}{i} p_0^i (1-p_0)^{n_1-i} = .63$\n",
    "\n",
    "$\\text{EN}(p_0) = n_1 + \\left(1-\\text{PET}(p_0)\\right)*n_2 = 14.5$\n",
    "\n",
    "If early termination is allowed, the expected sample size EN is less than the total sample size $n$.\n",
    "\n"
   ]
  },
  {
   "cell_type": "markdown",
   "id": "1a2013fb",
   "metadata": {
    "slideshow": {
     "slide_type": "slide"
    }
   },
   "source": [
    "\n",
    "## Phase II Clinical Trials: Definition (cont'd)\n",
    "\n",
    "- **Optimal design**: Minimize EN$(p_0)$ when $p=p_0$ subject to the constraints of $\\alpha$ and $\\beta$.\n",
    "- **Minimax design**: Minimize $n$ when $p=p_0$ subject to the constraints of $\\alpha$ and $\\beta$.\n",
    "- **Constraints**:\n",
    "  $$\\begin{aligned}\n",
    "   \\alpha & = P(\\text{rej. } H_0 | H_0) \\\\\n",
    "   \\beta  & = P(\\text{rej. } H_1 | H_1)\n",
    "   \\end{aligned}$$\n",
    "\n"
   ]
  },
  {
   "cell_type": "markdown",
   "id": "02878686",
   "metadata": {
    "slideshow": {
     "slide_type": "slide"
    }
   },
   "source": [
    "\n",
    "## Calculation of Sample Size\n",
    "\n",
    "Suppose $X_1 \\sim \\text{Bin}\\left(n_1, p\\right)$ and $X_2 \\sim \\text{Bin}\\left(n_2, p\\right)$. We declare the new drug a\n",
    "\n",
    "- Failure if $\\xi_F=X_1 \\leq r_1$ OR $\\left\\{X_1>r_1\\right.$ AND $\\left.X_1+X_2 \\leq r\\right\\}$\n",
    "- Success if $\\xi_S=\\left\\{X_1>r_1\\right.$ AND $\\left.X_1+X_2>r\\right\\}$\n",
    "\n",
    "Therefore,\n",
    "$$\n",
    "P\\left(\\xi_F \\mid p \\leq p_0\\right) \\leq \\alpha, \\quad P\\left(\\xi_S \\mid p \\geq p_1\\right) \\geq 1-\\beta\n",
    "$$\n",
    "\n",
    "Moreover, we have\n",
    "$$\n",
    "\\begin{aligned}\n",
    "P\\left(\\xi_S \\mid p\\right) & =\\sum_{x_1>r_1, x_1+x_2>r} b\\left(x_1 ; n_1, p\\right) b\\left(x_2 ; n_2, p\\right) \\\\\n",
    "P\\left(\\xi_F \\mid p\\right) & =1-P\\left(\\xi_S \\mid p\\right) \\\\\n",
    "& =B\\left(r_1 ; n_1, p\\right)+\\sum_{x=r_1+1}^{\\min \\left\\{n_1, r\\right\\}} b\\left(x ; n_1, p\\right) B\\left(r-x ; n_2, p\\right)\n",
    "\\end{aligned}\n",
    "$$\n",
    "\n"
   ]
  },
  {
   "cell_type": "markdown",
   "id": "6f1a82ff",
   "metadata": {
    "slideshow": {
     "slide_type": "subslide"
    }
   },
   "source": [
    "\n",
    "<h3>Calculation of Sample Size (cont'd)</h3>\n",
    "\n",
    "The probability of early rejection in stage I is\n",
    "$$\\begin{aligned}\n",
    "\\text{PET}(p_0)&=P\\left(X_1 \\leq r_1 \\mid p=p_0\\right)\\\\\n",
    "& = \\text{Bin}(r_1; n_1, p_0)\\\\\n",
    "& = \\sum_{i=0}^{r_1} \\binom{n_1}{i} p_0^i (1-p_0)^{n_1-i}\n",
    "\\end{aligned}$$\n",
    "\n",
    "The expected sample size EN$\\left(p_0\\right)$ is given by\n",
    "$$\\text{EN}(p_0) =n_1+n_2 (1-\\text{PET}(p_0))$$\n",
    "\n"
   ]
  },
  {
   "cell_type": "markdown",
   "id": "46d4bdf5",
   "metadata": {
    "slideshow": {
     "slide_type": "slide"
    }
   },
   "source": [
    "\n",
    "## Algorithm for Simon's Two-Stage Design\n",
    "\n",
    "<center><img src=\"./img/algo.png\" style=\"zoom:.4\"></center>\n",
    "\n"
   ]
  },
  {
   "cell_type": "markdown",
   "id": "f8a799c7",
   "metadata": {
    "slideshow": {
     "slide_type": "subslide"
    }
   },
   "source": [
    "\n",
    "<h3>Results of the Algorithm</h3>\n",
    "\n",
    "\n",
    "<figure>\n",
    "    <center><img src=\"./img/ph2simon.png\" style=\"zoom:.8\"></center>\n",
    "    <figcaption style=\"text-align: center;\">Fig 2: Sample size calculation results. The 'M' stands for minimax design and the 'O' stands for optimal design.\n",
    "    </figcaption>\n",
    "</figure>\n",
    "\n"
   ]
  },
  {
   "cell_type": "markdown",
   "id": "07a57ad5",
   "metadata": {
    "slideshow": {
     "slide_type": "slide"
    }
   },
   "source": [
    "\n",
    "## References\n",
    "\n",
    "1. U.S. Food and Drug Administration (FDA). *Step 3: Clinical Research*. The Drug Development Process. [https://www.fda.gov/patients/drug-development-process/step-3-clinical-research](https://www.fda.gov/patients/drug-development-process/step-3-clinical-research).\n",
    "2. Simon, Richard. 1989. “Optimal Two-Stage Designs for Phase II Clinical Trials.” Controlled Clinical Trials 10 (1): 1–10., doi: [10.1016/0197-2456(89)90015-9](10.1016/0197-2456(89)90015-9).\n",
    "\n"
   ]
  }
 ],
 "metadata": {},
 "nbformat": 4,
 "nbformat_minor": 5
}
