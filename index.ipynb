{
 "cells": [
  {
   "cell_type": "markdown",
   "id": "4599e5f2",
   "metadata": {
    "slideshow": {
     "slide_type": "slide"
    }
   },
   "source": [
    "# Optimal Two-Stage Designs for Phase II Clinical Trials\n",
    "\n",
    "Author: Jiang Wenxin\n",
    "\n",
    "Date: 2024 April 16\n",
    "\n"
   ]
  },
  {
   "cell_type": "markdown",
   "id": "cfb3bcf1",
   "metadata": {
    "slideshow": {
     "slide_type": "slide"
    }
   },
   "source": [
    "\n",
    "## Introduction: Clinical Trials\n",
    "\n",
    "Goal: Determine if a new test or treatment works and is safe.\n",
    "\n",
    "Three main phases of clinical trials$^{[1]}$:\n",
    "\n",
    "| Phase | Purpose                                      | Typical number of participants        | Success rate    |\n",
    "| ----- | -------------------------------------------- | ------------------------------------- | --------------- |\n",
    "| I     | Safety and dosage                            | 20-100 healthy volunteers or patients | Approx. 70%     |\n",
    "| II    | Efficacy and side effects                    | Up to several hundred patients        | Approx. 33%     |\n",
    "| III   | Efficacy and monitoring of adverse reactions | 300 to 3,000 patients                 | Approx. 25%-30% |\n",
    "\n",
    "<!-- FDA. https://www.fda.gov/patients/drug-development-process/step-3-clinical-research-->\n",
    "\n"
   ]
  },
  {
   "cell_type": "markdown",
   "id": "41b172ee",
   "metadata": {
    "slideshow": {
     "slide_type": "slide"
    }
   },
   "source": [
    "\n",
    "## Phase II Clinical Trials\n",
    "\n",
    "- **Objective**: Determine if the new treatment is **effective** enough to warrant further study in a larger phase III trial, as well as to further assess safety.\n",
    "- **Endpoints**: Binary (e.g., response vs. no response)\n",
    "- **Hypothesis**:\n",
    "\n",
    "$$\n",
    "\\begin{equation*}\n",
    "\\begin{aligned}\n",
    "H_0: p \\leq p_0 \\quad &\\text{vs.} \\quad H_1: p \\geq p_1 \\\\\n",
    "\\text{type I error: } \\alpha & = P(\\text{rej. } H_0 | H_0) \\\\\n",
    "    \\text{type II error: } \\beta & = P(\\text{rej. } H_1 | H_1)\n",
    "\\end{aligned}\n",
    "\\end{equation*}\n",
    "$$\n",
    "where $p$ is the true response rate and $p_0$ and $p_1$ are the uninteresting level and the desirable level, respectively.\n",
    "\n",
    "<!-- Consider a single-arm design with tumor response rate as the primary endpoint, where a binary outcome is defined as either “response” or “no response”. We want to test the hypotheses: -->\n",
    "\n"
   ]
  },
  {
   "cell_type": "markdown",
   "id": "aa1552ea",
   "metadata": {
    "slideshow": {
     "slide_type": "subslide"
    }
   },
   "source": [
    "\n",
    "<h3>A Motivating Example</h3>\n",
    "\n",
    "Let set $p_0 = .05$, $p_1 = .25$, $\\alpha = .10$, and $\\beta = .10$ and calculate the sample size under Simon's two-stage optimal design$^{[2]}$. Note: $n, n_i, r, r_i, x_i, i=1,2$ are integers.\n",
    "\n",
    "<!-- <figure>\n",
    "    <center><img src=\"./img/flowchart.png\" style=\"zoom:.3\"></center>\n",
    "    <figcaption style=\"text-aligned: center;\">Fig 1: Flowchart of Simon's two-stage design</figcaption>\n",
    "</figure> -->\n",
    "\n",
    "| Notation | Definition                  | Value |\n",
    "| -------- | --------------------------- | ----: |\n",
    "| $n_1$    | sample size in stage I      |     9 |\n",
    "| $x_1$    | # responses in stage I      |     ? |\n",
    "| $r_1$    | rejection points in stage I |     0 |\n",
    "| $n_2$    | sample size in stage II     |    15 |\n",
    "| $x_2$    | # responses in stage II     |     ? |\n",
    "| $r$      | total rejection points      |     2 |\n",
    "\n",
    "Accept only if $x_1 \\geq r_1$ and $x_1+x_2 \\geq r$.\n",
    "\n"
   ]
  },
  {
   "cell_type": "markdown",
   "id": "3c661886",
   "metadata": {
    "slideshow": {
     "slide_type": "subslide"
    }
   },
   "source": [
    "\n",
    "<h3>A Motivating Example (cont'd)</h3>\n",
    "\n",
    "<center><h4><strong>Question: Why we need a two-stage design?</strong></h4></center>\n",
    "\n",
    "<center><figure>\n",
    "    <img src=\"./img/flowchart.png\" style=\"zoom:.3\">\n",
    "    <figcaption style=\"text-aligned: center;\">Fig 1: Flowchart of Simon's two-stage design</figcaption>\n",
    "</figure></center>\n",
    "\n",
    "<!--     | $p_0$                        | uninteresting level | .05 |\n",
    "| $p_1$    | desirable level              | .25                 |\n",
    "| $p$      | true response rate           | ?                   |\n",
    "| $\\alpha$ | type I error                 | .10                 |\n",
    "| $r_2$        | rejection points in stage II |     2 |\n",
    "| $\\beta$  | type II error                | .10                 | -->\n",
    "\n"
   ]
  },
  {
   "cell_type": "markdown",
   "id": "aa06284f",
   "metadata": {
    "slideshow": {
     "slide_type": "subslide"
    }
   },
   "source": [
    "\n",
    "<h3>A Motivating Example (cont'd)</h3>\n",
    "\n",
    "| Notation   | Definition                                   | Value |\n",
    "| ---------- | -------------------------------------------- | ----: |\n",
    "| $n$        | total sample size                            |    24 |\n",
    "| PET$(p_0)$ | probability of early termination under $p_0$ |  0.63 |\n",
    "| EN$(p_0)$  | expected sample size under $p_0$             |  14.5 |\n",
    "\n",
    "$\\text{PET}(p_0) = P(x_1 \\leq r_1 | p=p_0) = \\text{Bin}(r_1; n_1, p_0) = \\sum_{i=0}^{r_1} \\binom{n_1}{i} p_0^i (1-p_0)^{n_1-i} = .63$\n",
    "\n",
    "$\\text{EN}(p_0) = n_1 + \\left(1-\\text{PET}(p_0)\\right)*n_2 = 14.5$\n",
    "\n",
    "If early termination is allowed, the expected sample size EN is less than the total sample size $n$.\n",
    "\n"
   ]
  },
  {
   "cell_type": "markdown",
   "id": "14993d9f",
   "metadata": {
    "slideshow": {
     "slide_type": "slide"
    }
   },
   "source": [
    "\n",
    "## Phase II Clinical Trials: (cont'd)\n",
    "\n",
    "- **Optimal design**: Minimize EN$(p_0)$ when $p=p_0$ subject to the constraints of $\\alpha$ and $\\beta$.\n",
    "- **Minimax design**: Minimize $n$ when $p=p_0$ subject to the constraints of $\\alpha$ and $\\beta$.\n",
    "- **Constraints**:\n",
    "  $$\\begin{aligned}\n",
    "   \\alpha & = P(\\text{rej. } H_0 | H_0) \\\\\n",
    "   \\beta  & = P(\\text{rej. } H_1 | H_1)\n",
    "   \\end{aligned}$$\n",
    "\n"
   ]
  },
  {
   "cell_type": "markdown",
   "id": "8bd36388",
   "metadata": {
    "slideshow": {
     "slide_type": "slide"
    }
   },
   "source": [
    "\n",
    "## Calculation of Sample Size\n",
    "\n",
    "Suppose # responses in stage I and stage II $X_1 \\sim \\text{Bin}\\left(n_1, p\\right)$ and $X_2 \\sim \\text{Bin}\\left(n_2, p\\right)$, respectively. We declare the new drug a\n",
    "\n",
    "- Failure if $\\xi_F: X_1 \\leq r_1$ OR ($X_1>r_1$ and $X_1+X_2 \\leq r$)\n",
    "- Success if $\\xi_S: X_1>r_1$ and $X_1+X_2>r$\n",
    "\n",
    "Therefore,\n",
    "$$\\begin{equation*}\n",
    "P\\left(\\xi_F \\mid p \\leq p_0\\right) \\leq \\alpha, \\quad P\\left(\\xi_F \\mid p \\geq p_1\\right) \\leq \\beta\n",
    "\\end{equation*}\n",
    "$$\n",
    "\n",
    "Moreover, we have\n",
    "$$\\begin{equation*}\n",
    "\\begin{aligned}\n",
    "P\\left(\\xi_S \\mid p\\right) & =\\sum_{x_1>r_1, x_1+x_2>r} b\\left(x_1 ; n_1, p\\right) b\\left(x_2 ; n_2, p\\right) \\\\\n",
    "P\\left(\\xi_F \\mid p\\right) & =1-P\\left(\\xi_S \\mid p\\right) \\\\\n",
    "& =B\\left(r_1 ; n_1, p\\right)+\\sum_{x=r_1+1}^{\\min \\left\\{n_1, r\\right\\}} b\\left(x ; n_1, p\\right) B\\left(r-x ; n_2, p\\right)\n",
    "\\end{aligned}\n",
    "\\end{equation*}\n",
    "$$\n",
    "\n"
   ]
  },
  {
   "cell_type": "markdown",
   "id": "def6ebdd",
   "metadata": {
    "slideshow": {
     "slide_type": "subslide"
    }
   },
   "source": [
    "\n",
    "<h3>Calculation of Sample Size (cont'd)</h3>\n",
    "\n",
    "The probability of early rejection in stage I is\n",
    "$$\n",
    "\\begin{equation*}\n",
    "\\begin{aligned}\n",
    "\\text{PET}(p_0)&=P\\left(X_1 \\leq r_1 \\mid p=p_0\\right)\\\\\n",
    "& = \\text{Bin}(r_1; n_1, p_0)\\\\\n",
    "& = \\sum_{i=0}^{r_1} \\binom{n_1}{i} p_0^i (1-p_0)^{n_1-i}\n",
    "\\end{aligned}\n",
    "\\end{equation*}\n",
    "$$\n",
    "\n",
    "The expected sample size EN$\\left(p_0\\right)$ is given by\n",
    "$$\\text{EN}(p_0) =n_1+n_2 (1-\\text{PET}(p_0))$$\n",
    "\n"
   ]
  },
  {
   "cell_type": "markdown",
   "id": "1f046fa4",
   "metadata": {
    "slideshow": {
     "slide_type": "slide"
    }
   },
   "source": [
    "\n",
    "## Algorithm for Simon's Two-Stage Design\n",
    "\n",
    "<center><img src=\"./img/algo.png\" style=\"zoom:.55\"></center>\n",
    "\n",
    "Then, calculate PET$(p_0)$ and EN$(p_0)$. The minimax design chooses the pair $(r_1, r, n_1, n_2)$ that minimizes $n$, while the optimal design chooses the pair that minimizes EN$(p_0)$.\n",
    "\n"
   ]
  },
  {
   "cell_type": "markdown",
   "id": "be7510bf",
   "metadata": {
    "slideshow": {
     "slide_type": "slide"
    }
   },
   "source": [
    "\n",
    "## Results\n",
    "\n",
    "```\n",
    " Simon 2-stage Phase II design \n",
    "\n",
    "Unacceptable response rate:  0.05 \n",
    "Desirable response rate:  0.25 \n",
    "Error rates: alpha =  0.1 ; beta =  0.1 \n",
    "\n",
    "           r1 n1 r  n EN(p0) PET(p0)   qLo   qHi\n",
    "Minimax     0 13 2 20  16.41  0.5133 0.523 1.000\n",
    "Admissible  0 11 2 21  15.31  0.5688 0.332 0.523\n",
    "Admissible  0 10 2 22  14.82  0.5987 0.119 0.332\n",
    "Optimal     0  9 2 24  14.55  0.6302 0.000 0.119\n",
    "```\n",
    "\n"
   ]
  },
  {
   "cell_type": "markdown",
   "id": "460e8641",
   "metadata": {
    "slideshow": {
     "slide_type": "subslide"
    }
   },
   "source": [
    "\n",
    "<h3>Results (cont'd)</h3>\n",
    "\n",
    "<center><figure>\n",
    "    <img src=\"./img/ph2simon.png\" style=\"zoom:.7\">\n",
    "    <figcaption style=\"text-aligned: center;\">Fig 2: Sample size calculation results. The 'M' stands for minimax design and the 'O' stands for optimal design.\n",
    "    </figcaption>\n",
    "</figure></center>\n",
    "\n"
   ]
  },
  {
   "cell_type": "markdown",
   "id": "1bf1a426",
   "metadata": {
    "slideshow": {
     "slide_type": "slide"
    }
   },
   "source": [
    "\n",
    "## Reference\n",
    "\n",
    "1. U.S. Food and Drug Administration (FDA). *Step 3: Clinical Research*. The Drug Development Process. [https://www.fda.gov/patients/drug-development-process/step-3-clinical-research](https://www.fda.gov/patients/drug-development-process/step-3-clinical-research).\n",
    "2. Simon, Richard. 1989. “Optimal Two-Stage Designs for Phase II Clinical Trials.” Controlled Clinical Trials 10 (1): 1–10., doi: [10.1016/0197-2456(89)90015-9](10.1016/0197-2456(89)90015-9).\n",
    "3. Hao Sun. *Chapter 2 Phase II design: Simon’s two-stage design*. Design Notebook. 2023.[https://bookdown.org/eugenesun95/designbook/phase-ii-design.html#simons-two-stage-design](https://bookdown.org/eugenesun95/designbook/phase-ii-design.html#simons-two-stage-design)\n"
   ]
  }
 ],
 "metadata": {},
 "nbformat": 4,
 "nbformat_minor": 5
}
